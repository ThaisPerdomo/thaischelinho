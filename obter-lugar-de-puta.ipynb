{
 "cells": [
  {
   "cell_type": "markdown",
   "metadata": {},
   "source": [
    "Para usar este notebook, siga os passos a seguir:\n",
    "\n",
    "\n",
    "1. instale o [miniconda 64-bit](https://docs.conda.io/en/latest/miniconda.html)\n",
    "2. no menu iniciar, abra o anaconda prompt\n",
    "3. pelo terminal, vá até a pasta onde esse arquivo está instalado (exemplo: `cd Downloads\\lista-de-puta`)\n",
    "4. digite os seguintes comandos no anaconda prompt, um a um:\n",
    "    ```bash\n",
    "    # 1. crie o ambiente 'lerdomo'\n",
    "    conda create -n lerdomo\n",
    "    # 2. ative o ambiente 'lerdomo' criado\n",
    "    conda activate lerdomo\n",
    "    # 3. instale o jupyter\n",
    "    conda install -c conda-forge jupyterlab -y\n",
    "    # 4. execute o jupyter\n",
    "    jupyterlab\n",
    "    ```\n",
    "5. ctrl+click na url que aparecer no terminal (fica bem no finalzinho)\n",
    "6. no navegador, vai abrir uma pastinha com os arquivos. tudo pronto pra usar ✨\n",
    "\n",
    "**dúvidas? Chegue Junto no zap**"
   ]
  },
  {
   "cell_type": "code",
   "execution_count": 13,
   "metadata": {},
   "outputs": [],
   "source": [
    "import json\n",
    "from pathlib import Path"
   ]
  },
  {
   "cell_type": "code",
   "execution_count": 14,
   "metadata": {},
   "outputs": [],
   "source": [
    "# abre o arquivo 'lista-de-puta.json'\n",
    "with open(\"lista-de-puta.json\", \"r\") as arquivo:\n",
    "    dados = arquivo.read()\n",
    "    lista_de_puta = json.loads(dados)"
   ]
  },
  {
   "cell_type": "code",
   "execution_count": 15,
   "metadata": {},
   "outputs": [
    {
     "data": {
      "text/plain": [
       "['Dow jones',\n",
       " 'Hoccus Pocus',\n",
       " 'Quartinho',\n",
       " 'Mãe Joana',\n",
       " 'Vuvu',\n",
       " 'Be+Co',\n",
       " 'Mané',\n",
       " 'The Boua',\n",
       " 'Macuna Bar',\n",
       " 'Culto Bar',\n",
       " 'Reduto',\n",
       " 'Comutação Bar',\n",
       " 'Yoo2 Rooftop',\n",
       " 'Gato café',\n",
       " 'Slow Bakery']"
      ]
     },
     "execution_count": 15,
     "metadata": {},
     "output_type": "execute_result"
    }
   ],
   "source": [
    "# lugares em botafogo\n",
    "lista_de_puta[\"Botafogo\"]"
   ]
  },
  {
   "cell_type": "code",
   "execution_count": null,
   "metadata": {},
   "outputs": [],
   "source": []
  }
 ],
 "metadata": {
  "kernelspec": {
   "display_name": "Python 3.11.0 ('lerdomo')",
   "language": "python",
   "name": "python3"
  },
  "language_info": {
   "codemirror_mode": {
    "name": "ipython",
    "version": 3
   },
   "file_extension": ".py",
   "mimetype": "text/x-python",
   "name": "python",
   "nbconvert_exporter": "python",
   "pygments_lexer": "ipython3",
   "version": "3.11.0"
  },
  "orig_nbformat": 4,
  "vscode": {
   "interpreter": {
    "hash": "0c64d27ecf7a9c167f7c0ff78d83f6c431a107e258f115bed8963df33338ab36"
   }
  }
 },
 "nbformat": 4,
 "nbformat_minor": 2
}
